{
 "cells": [
  {
   "cell_type": "code",
   "execution_count": 8,
   "metadata": {
    "collapsed": false
   },
   "outputs": [],
   "source": [
    "%matplotlib inline\n",
    "import pandas as pd\n",
    "import numpy as np\n",
    "import numpy.ma as ma\n",
    "import matplotlib.pyplot as plt\n",
    "from scipy import io\n",
    "import os\n",
    "import seaborn as sns"
   ]
  },
  {
   "cell_type": "code",
   "execution_count": 8,
   "metadata": {
    "collapsed": false
   },
   "outputs": [],
   "source": [
    "def keyed(mat):\n",
    "    keys = mat.keys()\n",
    "    \n",
    "    for i in keys:\n",
    "        try:\n",
    "            print i, mat[i].shape\n",
    "            pass\n",
    "        except AttributeError:\n",
    "            print '... Error'\n",
    "            continue"
   ]
  },
  {
   "cell_type": "code",
   "execution_count": 3,
   "metadata": {
    "collapsed": false
   },
   "outputs": [
    {
     "name": "stdout",
     "output_type": "stream",
     "text": [
      "['sullivanpt_005min.mat', 'sullivanpt_005min_histogram.mat', 'sullivanpt_2nd_deployment_005min.mat', 'sullivanpt_2nd_deployment_005min_histogram.mat', 'walker_005min_histogram.mat', 'walkerst_005min.mat', 'wyman_005_histogram.mat', 'wymanst_005min.mat']\n"
     ]
    }
   ],
   "source": [
    "path = 'adcp_data/'\n",
    "listing = os.listdir(path)\n",
    "print listing"
   ]
  },
  {
   "cell_type": "code",
   "execution_count": 4,
   "metadata": {
    "collapsed": true
   },
   "outputs": [],
   "source": [
    "sites = {'Sullivan Point':io.loadmat(path + listing[1]),'Sullivan Point Redeployment':io.loadmat(path + listing[3]),\n",
    "         \"Walker St. Bridge\":io.loadmat(path + listing[5]), 'Wyman Ave. Bridge':io.loadmat(path + listing [7])}"
   ]
  },
  {
   "cell_type": "code",
   "execution_count": 5,
   "metadata": {
    "collapsed": false
   },
   "outputs": [
    {
     "data": {
      "text/plain": [
       "'Sullivan Point'"
      ]
     },
     "execution_count": 5,
     "metadata": {},
     "output_type": "execute_result"
    }
   ],
   "source": [
    "keys = sites.keys()\n",
    "keys[1]"
   ]
  },
  {
   "cell_type": "code",
   "execution_count": 6,
   "metadata": {
    "collapsed": false,
    "scrolled": true
   },
   "outputs": [
    {
     "name": "stdout",
     "output_type": "stream",
     "text": [
      "cmag (10812L, 36L)\n",
      "__globals__ ... Error\n",
      "nfrac (36L, 26L)\n",
      "zbins (1L, 36L)\n",
      "__header__ ... Error\n",
      "pa (10812L, 1L)\n",
      "Vv (1L, 26L)\n",
      "__version__ ... Error\n",
      "cdir (10812L, 36L)\n",
      "ta (1L, 10812L)\n"
     ]
    }
   ],
   "source": [
    "keyed(sites['Sullivan Point'])"
   ]
  },
  {
   "cell_type": "code",
   "execution_count": 6,
   "metadata": {
    "collapsed": false
   },
   "outputs": [
    {
     "data": {
      "text/plain": [
       "<matplotlib.colorbar.Colorbar at 0x10c1b13d0>"
      ]
     },
     "execution_count": 6,
     "metadata": {},
     "output_type": "execute_result"
    },
    {
     "data": {
      "image/png": "[encoded data removed]",
      "text/plain": [
       "<matplotlib.figure.Figure at 0x10be56f10>"
      ]
     },
     "metadata": {},
     "output_type": "display_data"
    }
   ],
   "source": [
    "infile = sites[keys[1]]\n",
    "x = np.squeeze(infile.get('Vv'))\n",
    "y = np.squeeze(infile.get('zbins'))\n",
    "z = infile.get('nfrac')\n",
    "Zm = ma.array(z,mask=np.isnan(z))\n",
    "z_min, z_max = np.nanmin(z), np.nanmax(z)\n",
    "\n",
    "ax = plt.subplot(1,1,1)\n",
    "ax.grid(True, which='minor', axis='both', linestyle='-', color='k',linewidth=10,)\n",
    "plt.pcolormesh(x, y, Zm, cmap='jet', vmin=np.nanmin(z), vmax=np.nanmax(z))\n",
    "\n",
    "plt.title('pcolormesh')\n",
    "# set the limits of the plot to the limits of the data\n",
    "plt.axis([x.min(), x.max(), y.min(), y.max()])\n",
    "\n",
    "plt.colorbar()\n",
    "\n",
    "# 'plt.subplot(2, 1, 2)\n",
    "# plt.imshow(z, cmap='viridis', vmin=z_min, vmax=z_max,\n",
    "#            extent=[x.min(), x.max(), y.min(), y.max()],\n",
    "#            interpolation='nearest', origin='lower', aspect='auto')\n",
    "# plt.title('image (interp. nearest)')\n",
    "# plt.colorbar()"
   ]
  },
  {
   "cell_type": "code",
   "execution_count": 11,
   "metadata": {
    "collapsed": false
   },
   "outputs": [
    {
     "data": {
      "image/png": "[encoded data removed]",
      "text/plain": [
       "<matplotlib.figure.Figure at 0x10e3f1c90>"
      ]
     },
     "metadata": {},
     "output_type": "display_data"
    }
   ],
   "source": [
    "ax = sns.heatmap(Zm, cmap='viridis',linewidths=.1)\n",
    "ax=ss"
   ]
  },
  {
   "cell_type": "code",
   "execution_count": 35,
   "metadata": {
    "collapsed": false,
    "scrolled": false
   },
   "outputs": [
    {
     "data": {
      "text/plain": [
       "34.079861111111086"
      ]
     },
     "execution_count": 35,
     "metadata": {},
     "output_type": "execute_result"
    }
   ],
   "source": [
    "days = wyman['ta']\n",
    "days = np.squeeze(days)\n",
    "days[-1]-days[0]"
   ]
  },
  {
   "cell_type": "code",
   "execution_count": 18,
   "metadata": {
    "collapsed": false
   },
   "outputs": [
    {
     "data": {
      "text/plain": [
       "0.52000000000000002"
      ]
     },
     "execution_count": 18,
     "metadata": {},
     "output_type": "execute_result"
    }
   ],
   "source": [
    "while sullivan['cmag'] =="
   ]
  },
  {
   "cell_type": "code",
   "execution_count": 8,
   "metadata": {
    "collapsed": false
   },
   "outputs": [
    {
     "data": {
      "text/plain": [
       "2.2524351677992054"
      ]
     },
     "execution_count": 8,
     "metadata": {},
     "output_type": "execute_result"
    }
   ],
   "source": [
    "np.nanmax(sullivan['cmag'])"
   ]
  },
  {
   "cell_type": "code",
   "execution_count": 37,
   "metadata": {
    "collapsed": false
   },
   "outputs": [
    {
     "name": "stdout",
     "output_type": "stream",
     "text": [
      "1.60837825734\n",
      "2.2524351678\n",
      "0.880732138526\n",
      "23.36263776\n",
      "0.540893682074\n",
      "0.984697725635\n",
      "0.880732138526\n"
     ]
    }
   ],
   "source": [
    "x = np.squeeze(sullivan['ta'].T)\n",
    "yMean = np.nanmean(sullivan['cmag'],axis=1)\n",
    "yMin = np.nanmin(sullivan['cmag'],axis=1)\n",
    "yMax = np.nanmax(sullivan['cmag'],axis=1)\n",
    "yPres = sullivan['pa'] - np.nanmean(sullivan['pa'])\n",
    "\n",
    "print np.nanmax(yMin)\n",
    "print np.nanmax(yMax)\n",
    "print np.nanmean(yMean)\n",
    "print np.nanmax(yPres) - np.nanmin(yPres)\n",
    "print np.nanmean(yMin)\n",
    "print np.nanmean(yMax)\n",
    "print np.nanmean(sullivan['cmag'])\n"
   ]
  },
  {
   "cell_type": "code",
   "execution_count": 70,
   "metadata": {
    "collapsed": false
   },
   "outputs": [
    {
     "name": "stdout",
     "output_type": "stream",
     "text": [
      "[ 302.39409722]\n",
      "[ 302.39449398]\n"
     ]
    }
   ],
   "source": [
    "xS = walker['ta'].T\n",
    "xA = wyman['ta'].T\n",
    "walkerMean = np.nanmean(walker['cmag'],axis=1)\n",
    "wymanMean = np.nanmin(wyman['cmag'],axis=1)\n",
    "print xS[305]\n",
    "print xA[305]"
   ]
  },
  {
   "cell_type": "code",
   "execution_count": 61,
   "metadata": {
    "collapsed": false
   },
   "outputs": [
    {
     "name": "stdout",
     "output_type": "stream",
     "text": [
      "[ 0.5659362   0.66920139  0.70139543 ...,  0.66525334  0.68813246\n",
      "  0.68736835]\n"
     ]
    }
   ],
   "source": [
    "t = np.nanargmax(yMax)\n",
    "yMax[t-720:t+720].shape\n",
    "low = 0\n",
    "high = t+240\n",
    "print yMax"
   ]
  },
  {
   "cell_type": "code",
   "execution_count": 17,
   "metadata": {
    "collapsed": false
   },
   "outputs": [
    {
     "ename": "NameError",
     "evalue": "name 'xS' is not defined",
     "output_type": "error",
     "traceback": [
      "\u001b[1;31m---------------------------------------------------------------------------\u001b[0m",
      "\u001b[1;31mNameError\u001b[0m                                 Traceback (most recent call last)",
      "\u001b[1;32m<ipython-input-17-2a93ad1f7ee4>\u001b[0m in \u001b[0;36m<module>\u001b[1;34m()\u001b[0m\n\u001b[0;32m      6\u001b[0m \u001b[1;33m\u001b[0m\u001b[0m\n\u001b[0;32m      7\u001b[0m \u001b[1;31m# add a line renderer with legend and line thickness\u001b[0m\u001b[1;33m\u001b[0m\u001b[1;33m\u001b[0m\u001b[0m\n\u001b[1;32m----> 8\u001b[1;33m \u001b[0mp\u001b[0m\u001b[1;33m.\u001b[0m\u001b[0mline\u001b[0m\u001b[1;33m(\u001b[0m\u001b[0mxS\u001b[0m\u001b[1;33m[\u001b[0m\u001b[1;36m0\u001b[0m\u001b[1;33m:\u001b[0m\u001b[1;36m305\u001b[0m\u001b[1;33m,\u001b[0m\u001b[1;36m0\u001b[0m\u001b[1;33m]\u001b[0m\u001b[1;33m,\u001b[0m \u001b[0mwalkerMean\u001b[0m\u001b[1;33m[\u001b[0m\u001b[1;36m0\u001b[0m\u001b[1;33m:\u001b[0m\u001b[1;36m305\u001b[0m\u001b[1;33m]\u001b[0m\u001b[1;33m,\u001b[0m \u001b[0mlegend\u001b[0m\u001b[1;33m=\u001b[0m\u001b[1;34m\"Walker St. Mean\"\u001b[0m\u001b[1;33m,\u001b[0m \u001b[0mline_width\u001b[0m\u001b[1;33m=\u001b[0m\u001b[1;36m2\u001b[0m\u001b[1;33m,\u001b[0m \u001b[0mline_color\u001b[0m\u001b[1;33m=\u001b[0m\u001b[1;34m'blue'\u001b[0m\u001b[1;33m)\u001b[0m\u001b[1;33m\u001b[0m\u001b[0m\n\u001b[0m\u001b[0;32m      9\u001b[0m \u001b[0mp\u001b[0m\u001b[1;33m.\u001b[0m\u001b[0mline\u001b[0m\u001b[1;33m(\u001b[0m\u001b[0mxA\u001b[0m\u001b[1;33m[\u001b[0m\u001b[1;36m0\u001b[0m\u001b[1;33m:\u001b[0m\u001b[1;36m305\u001b[0m\u001b[1;33m,\u001b[0m\u001b[1;36m0\u001b[0m\u001b[1;33m]\u001b[0m\u001b[1;33m,\u001b[0m \u001b[0mwymanMean\u001b[0m\u001b[1;33m[\u001b[0m\u001b[1;36m0\u001b[0m\u001b[1;33m:\u001b[0m\u001b[1;36m305\u001b[0m\u001b[1;33m]\u001b[0m\u001b[1;33m,\u001b[0m \u001b[0mlegend\u001b[0m\u001b[1;33m=\u001b[0m\u001b[1;34m\"Wyman Ave. Mean.\"\u001b[0m\u001b[1;33m,\u001b[0m \u001b[0mline_width\u001b[0m\u001b[1;33m=\u001b[0m\u001b[1;36m2\u001b[0m\u001b[1;33m,\u001b[0m \u001b[0mline_color\u001b[0m\u001b[1;33m=\u001b[0m\u001b[1;34m'red'\u001b[0m\u001b[1;33m)\u001b[0m\u001b[1;33m\u001b[0m\u001b[0m\n\u001b[0;32m     10\u001b[0m \u001b[1;33m\u001b[0m\u001b[0m\n",
      "\u001b[1;31mNameError\u001b[0m: name 'xS' is not defined"
     ]
    }
   ],
   "source": [
    "# output to static HTML file\n",
    "output_file(\"lines.html\", title=\"line plot example\")\n",
    "\n",
    "# create a new plot with a title and axis labels\n",
    "p = figure(title=\"Mean Current Comparison\", x_axis_label='DateTime Value', y_axis_label='Velocity')\n",
    "\n",
    "# add a line renderer with legend and line thickness\n",
    "p.line(xS[0:305,0], walkerMean[0:305], legend=\"Walker St. Mean\", line_width=2, line_color='blue')\n",
    "p.line(xA[0:305,0], wymanMean[0:305], legend=\"Wyman Ave. Mean.\", line_width=2, line_color='red')\n",
    "\n",
    "\n",
    "# show the results\n",
    "show(p)"
   ]
  },
  {
   "cell_type": "code",
   "execution_count": 55,
   "metadata": {
    "collapsed": false
   },
   "outputs": [],
   "source": [
    "'''Sullivan Slice'''\n",
    "# output to static HTML file\n",
    "output_file(\"lines.html\", title=\"line plot example\")\n",
    "\n",
    "# create a new plot with a title and axis labels\n",
    "p = figure(title=\"Current Magnitude:Sullivan Point\", x_axis_label='DateTime Value', y_axis_label='Velocity')\n",
    "\n",
    "# add a line renderer with legend and line thickness\n",
    "p.line(x[low:high,0], yMean[low:high], legend=\"Mean.\", line_width=2, line_color='blue')\n",
    "p.line(x[low:high,0], yMin[low:high], legend=\"Min.\", line_width=2, line_color='red')\n",
    "p.line(x[low:high,0], yMax[low:high], legend=\"Max.\", line_width=2, line_color='green')\n",
    "#p.line(x[low:high,0], yPres[low:high,0], legend=\"Max.\", line_width=2, line_color='black')\n",
    "\n",
    "# show the results\n",
    "show(p)"
   ]
  },
  {
   "cell_type": "code",
   "execution_count": 40,
   "metadata": {
    "collapsed": false
   },
   "outputs": [],
   "source": [
    "# output to static HTML file\n",
    "output_file(\"lines.html\", title=\"line plot example\")\n",
    "\n",
    "# create a new plot with a title and axis labels\n",
    "p = figure(title=\"simple line example\", x_axis_label='DateTime Value', y_axis_label='Velocity', x_range=[x[0],x[-1]],x_axis_type=\"datetime\")\n",
    "\n",
    "# add a line renderer with legend and line thickness\n",
    "p.line(x[:], yMean[:], legend=\"Mean.\", line_width=2, line_color='blue')\n",
    "#p.line(x[:,0], y2[:], legend=\"Min.\", line_width=2, line_color='red')\n",
    "\n",
    "\n",
    "# show the results\n",
    "show(p)"
   ]
  },
  {
   "cell_type": "code",
   "execution_count": null,
   "metadata": {
    "collapsed": false
   },
   "outputs": [],
   "source": [
    "dp = np.max(y0)-np.min(y0)"
   ]
  },
  {
   "cell_type": "code",
   "execution_count": null,
   "metadata": {
    "collapsed": false
   },
   "outputs": [],
   "source": [
    "g = 9.81\n",
    "rho = 1019"
   ]
  },
  {
   "cell_type": "code",
   "execution_count": null,
   "metadata": {
    "collapsed": false
   },
   "outputs": [],
   "source": [
    "dp / (rho * g)"
   ]
  },
  {
   "cell_type": "code",
   "execution_count": null,
   "metadata": {
    "collapsed": false
   },
   "outputs": [],
   "source": [
    "dfn = pd.DataFrame(mat.get('nfrac'))\n",
    "dfn"
   ]
  },
  {
   "cell_type": "code",
   "execution_count": null,
   "metadata": {
    "collapsed": false
   },
   "outputs": [],
   "source": [
    "dfVv = pd.DataFrame(mat.get('Vv'))\n",
    "dfVv"
   ]
  },
  {
   "cell_type": "code",
   "execution_count": 30,
   "metadata": {
    "collapsed": false
   },
   "outputs": [
    {
     "data": {
      "text/plain": [
       "0.280151433207139"
      ]
     },
     "execution_count": 30,
     "metadata": {},
     "output_type": "execute_result"
    }
   ],
   "source": [
    "(2367 - 1849) / 1849."
   ]
  },
  {
   "cell_type": "code",
   "execution_count": 31,
   "metadata": {
    "collapsed": false
   },
   "outputs": [
    {
     "data": {
      "text/plain": [
       "4.908738521234052"
      ]
     },
     "execution_count": 31,
     "metadata": {},
     "output_type": "execute_result"
    }
   ],
   "source": [
    "np.pi * 1.25 ** 2"
   ]
  },
  {
   "cell_type": "code",
   "execution_count": 36,
   "metadata": {
    "collapsed": false
   },
   "outputs": [
    {
     "data": {
      "text/plain": [
       "282.83506944448322"
      ]
     },
     "execution_count": 36,
     "metadata": {},
     "output_type": "execute_result"
    }
   ],
   "source": [
    "x1 = np.squeeze(x)\n",
    "x1[0]"
   ]
  },
  {
   "cell_type": "code",
   "execution_count": 33,
   "metadata": {
    "collapsed": false
   },
   "outputs": [
    {
     "data": {
      "text/plain": [
       "0.19226618705035972"
      ]
     },
     "execution_count": 33,
     "metadata": {},
     "output_type": "execute_result"
    }
   ],
   "source": [
    "(13258-11120)/11120."
   ]
  },
  {
   "cell_type": "code",
   "execution_count": null,
   "metadata": {
    "collapsed": true
   },
   "outputs": [],
   "source": []
  }
 ],
 "metadata": {
  "kernelspec": {
   "display_name": "Python 2",
   "language": "python",
   "name": "python2"
  },
  "language_info": {
   "codemirror_mode": {
    "name": "ipython",
    "version": 2
   },
   "file_extension": ".py",
   "mimetype": "text/x-python",
   "name": "python",
   "nbconvert_exporter": "python",
   "pygments_lexer": "ipython2",
   "version": "2.7.11"
  }
 },
 "nbformat": 4,
 "nbformat_minor": 0
}
