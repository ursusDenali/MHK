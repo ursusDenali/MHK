{
 "cells": [
  {
   "cell_type": "code",
   "execution_count": 1,
   "metadata": {
    "collapsed": false
   },
   "outputs": [],
   "source": [
    "%matplotlib inline\n",
    "import pandas as pd\n",
    "import numpy as np\n",
    "import matplotlib.pyplot as plt\n",
    "from scipy import io\n",
    "import scipy.fftpack\n",
    "import pyproj\n",
    "from pyproj import Proj\n",
    "import os\n",
    "from bokeh.plotting import figure, output_file, show\n",
    "from bokeh.charts import BoxPlot, output_file, show\n",
    "import matplotlib.mlab as mlab\n",
    "from mpl_toolkits.mplot3d import Axes3D\n",
    "plt.style.use('ggplot')"
   ]
  },
  {
   "cell_type": "code",
   "execution_count": 2,
   "metadata": {
    "collapsed": false
   },
   "outputs": [
    {
     "name": "stdout",
     "output_type": "stream",
     "text": [
      "['sullivanpt_005min.mat', 'sullivanpt_005min_histogram.mat', 'sullivanpt_2nd_deployment_005min.mat', 'sullivanpt_2nd_deployment_005min_histogram.mat', 'walkerst_005min.mat', 'walker_005min_histogram.mat', 'wymanst_005min.mat', 'wyman_005_histogram.mat']\n"
     ]
    }
   ],
   "source": [
    "path = 'adcp_data/'\n",
    "listing = os.listdir(path)\n",
    "print listing"
   ]
  },
  {
   "cell_type": "code",
   "execution_count": 3,
   "metadata": {
    "collapsed": false
   },
   "outputs": [],
   "source": [
    "sullivan1 = io.loadmat(path + listing[1])\n",
    "sullivan2 = io.loadmat(path + listing[3])\n",
    "walker = io.loadmat(path + listing[5])\n",
    "wyman = io.loadmat(path + listing[7])"
   ]
  },
  {
   "cell_type": "code",
   "execution_count": 4,
   "metadata": {
    "collapsed": false
   },
   "outputs": [],
   "source": [
    "sites = {'Sullivan Point':io.loadmat(path + listing[1]),'Sullivan Redeploy':io.loadmat(path + listing[3]),\n",
    "         \"Walker St. Bridge\":io.loadmat(path + listing[5]), 'Wyman Ave. Bridge':io.loadmat(path + listing [7])}"
   ]
  },
  {
   "cell_type": "code",
   "execution_count": 6,
   "metadata": {
    "collapsed": false,
    "scrolled": true
   },
   "outputs": [
    {
     "name": "stdout",
     "output_type": "stream",
     "text": [
      "Walker St. Bridge\n",
      "Sullivan Point\n",
      "Wyman Ave. Bridge\n",
      "Sullivan Redeploy\n"
     ]
    }
   ],
   "source": [
    "for item in sites:\n",
    "    infile = item\n",
    "    print '%s' % item\n",
    "    #print sites[infile]['cmag']"
   ]
  },
  {
   "cell_type": "code",
   "execution_count": 7,
   "metadata": {
    "collapsed": false
   },
   "outputs": [
    {
     "data": {
      "text/plain": [
       "[1, 2, 3, 4, 5, 6, 7, 8, 9, 10, 11, 12, 13, 14, 15, 16, 17, 18]"
      ]
     },
     "execution_count": 7,
     "metadata": {},
     "output_type": "execute_result"
    }
   ],
   "source": [
    "sites[infile]['zbins']\n",
    "bins = range(1,sites[infile]['zbins'].size+1)\n",
    "bins"
   ]
  },
  {
   "cell_type": "code",
   "execution_count": 8,
   "metadata": {
    "collapsed": false,
    "scrolled": true
   },
   "outputs": [
    {
     "data": {
      "text/html": [
       "<div>\n",
       "<table border=\"1\" class=\"dataframe\">\n",
       "  <thead>\n",
       "    <tr style=\"text-align: right;\">\n",
       "      <th></th>\n",
       "      <th>1</th>\n",
       "      <th>2</th>\n",
       "      <th>3</th>\n",
       "      <th>4</th>\n",
       "      <th>5</th>\n",
       "      <th>6</th>\n",
       "      <th>7</th>\n",
       "      <th>8</th>\n",
       "      <th>9</th>\n",
       "      <th>10</th>\n",
       "      <th>11</th>\n",
       "      <th>12</th>\n",
       "      <th>13</th>\n",
       "      <th>14</th>\n",
       "      <th>15</th>\n",
       "      <th>16</th>\n",
       "      <th>17</th>\n",
       "      <th>18</th>\n",
       "    </tr>\n",
       "  </thead>\n",
       "  <tbody>\n",
       "    <tr>\n",
       "      <th>count</th>\n",
       "      <td>7983.000000</td>\n",
       "      <td>0</td>\n",
       "      <td>0</td>\n",
       "      <td>8040.000000</td>\n",
       "      <td>8040.000000</td>\n",
       "      <td>8040.000000</td>\n",
       "      <td>8040.000000</td>\n",
       "      <td>8040.000000</td>\n",
       "      <td>8040.000000</td>\n",
       "      <td>8040.000000</td>\n",
       "      <td>8040.000000</td>\n",
       "      <td>8040.000000</td>\n",
       "      <td>8040.000000</td>\n",
       "      <td>8040.000000</td>\n",
       "      <td>8040.000000</td>\n",
       "      <td>8040.000000</td>\n",
       "      <td>8040.000000</td>\n",
       "      <td>8040.000000</td>\n",
       "    </tr>\n",
       "    <tr>\n",
       "      <th>mean</th>\n",
       "      <td>0.537684</td>\n",
       "      <td>NaN</td>\n",
       "      <td>NaN</td>\n",
       "      <td>0.835541</td>\n",
       "      <td>0.874258</td>\n",
       "      <td>0.901581</td>\n",
       "      <td>0.921741</td>\n",
       "      <td>0.936057</td>\n",
       "      <td>0.945216</td>\n",
       "      <td>0.950546</td>\n",
       "      <td>0.952946</td>\n",
       "      <td>0.953519</td>\n",
       "      <td>0.952931</td>\n",
       "      <td>0.951362</td>\n",
       "      <td>0.949278</td>\n",
       "      <td>0.946582</td>\n",
       "      <td>0.943731</td>\n",
       "      <td>0.940446</td>\n",
       "    </tr>\n",
       "    <tr>\n",
       "      <th>std</th>\n",
       "      <td>0.296557</td>\n",
       "      <td>NaN</td>\n",
       "      <td>NaN</td>\n",
       "      <td>0.430758</td>\n",
       "      <td>0.447883</td>\n",
       "      <td>0.459202</td>\n",
       "      <td>0.466929</td>\n",
       "      <td>0.472182</td>\n",
       "      <td>0.474892</td>\n",
       "      <td>0.476107</td>\n",
       "      <td>0.476313</td>\n",
       "      <td>0.476073</td>\n",
       "      <td>0.475170</td>\n",
       "      <td>0.473541</td>\n",
       "      <td>0.472282</td>\n",
       "      <td>0.470868</td>\n",
       "      <td>0.469285</td>\n",
       "      <td>0.467661</td>\n",
       "    </tr>\n",
       "    <tr>\n",
       "      <th>min</th>\n",
       "      <td>0.001626</td>\n",
       "      <td>NaN</td>\n",
       "      <td>NaN</td>\n",
       "      <td>0.003606</td>\n",
       "      <td>0.002828</td>\n",
       "      <td>0.003162</td>\n",
       "      <td>0.005000</td>\n",
       "      <td>0.003162</td>\n",
       "      <td>0.005385</td>\n",
       "      <td>0.005099</td>\n",
       "      <td>0.004123</td>\n",
       "      <td>0.002828</td>\n",
       "      <td>0.001000</td>\n",
       "      <td>0.004472</td>\n",
       "      <td>0.003606</td>\n",
       "      <td>0.001414</td>\n",
       "      <td>0.003606</td>\n",
       "      <td>0.004123</td>\n",
       "    </tr>\n",
       "    <tr>\n",
       "      <th>25%</th>\n",
       "      <td>0.314884</td>\n",
       "      <td>NaN</td>\n",
       "      <td>NaN</td>\n",
       "      <td>0.531207</td>\n",
       "      <td>0.562100</td>\n",
       "      <td>0.585346</td>\n",
       "      <td>0.599364</td>\n",
       "      <td>0.611542</td>\n",
       "      <td>0.616001</td>\n",
       "      <td>0.615060</td>\n",
       "      <td>0.609266</td>\n",
       "      <td>0.603571</td>\n",
       "      <td>0.604026</td>\n",
       "      <td>0.599036</td>\n",
       "      <td>0.596342</td>\n",
       "      <td>0.594952</td>\n",
       "      <td>0.587956</td>\n",
       "      <td>0.583973</td>\n",
       "    </tr>\n",
       "    <tr>\n",
       "      <th>50%</th>\n",
       "      <td>0.513450</td>\n",
       "      <td>NaN</td>\n",
       "      <td>NaN</td>\n",
       "      <td>0.838869</td>\n",
       "      <td>0.882913</td>\n",
       "      <td>0.915999</td>\n",
       "      <td>0.938698</td>\n",
       "      <td>0.961052</td>\n",
       "      <td>0.975293</td>\n",
       "      <td>0.986396</td>\n",
       "      <td>0.996717</td>\n",
       "      <td>1.003743</td>\n",
       "      <td>1.008147</td>\n",
       "      <td>1.012871</td>\n",
       "      <td>1.013017</td>\n",
       "      <td>1.015250</td>\n",
       "      <td>1.014327</td>\n",
       "      <td>1.010617</td>\n",
       "    </tr>\n",
       "    <tr>\n",
       "      <th>75%</th>\n",
       "      <td>0.706508</td>\n",
       "      <td>NaN</td>\n",
       "      <td>NaN</td>\n",
       "      <td>1.074410</td>\n",
       "      <td>1.127432</td>\n",
       "      <td>1.165449</td>\n",
       "      <td>1.192631</td>\n",
       "      <td>1.219664</td>\n",
       "      <td>1.237178</td>\n",
       "      <td>1.249344</td>\n",
       "      <td>1.258937</td>\n",
       "      <td>1.264536</td>\n",
       "      <td>1.268723</td>\n",
       "      <td>1.267426</td>\n",
       "      <td>1.267585</td>\n",
       "      <td>1.266213</td>\n",
       "      <td>1.263200</td>\n",
       "      <td>1.260485</td>\n",
       "    </tr>\n",
       "    <tr>\n",
       "      <th>max</th>\n",
       "      <td>1.435689</td>\n",
       "      <td>NaN</td>\n",
       "      <td>NaN</td>\n",
       "      <td>2.124652</td>\n",
       "      <td>2.163318</td>\n",
       "      <td>2.211069</td>\n",
       "      <td>2.214892</td>\n",
       "      <td>2.212963</td>\n",
       "      <td>2.189264</td>\n",
       "      <td>2.177546</td>\n",
       "      <td>2.176284</td>\n",
       "      <td>2.176280</td>\n",
       "      <td>2.172826</td>\n",
       "      <td>2.172169</td>\n",
       "      <td>2.173458</td>\n",
       "      <td>2.177166</td>\n",
       "      <td>2.173878</td>\n",
       "      <td>2.160396</td>\n",
       "    </tr>\n",
       "  </tbody>\n",
       "</table>\n",
       "</div>"
      ],
      "text/plain": [
       "                1   2   3            4            5            6   \\\n",
       "count  7983.000000   0   0  8040.000000  8040.000000  8040.000000   \n",
       "mean      0.537684 NaN NaN     0.835541     0.874258     0.901581   \n",
       "std       0.296557 NaN NaN     0.430758     0.447883     0.459202   \n",
       "min       0.001626 NaN NaN     0.003606     0.002828     0.003162   \n",
       "25%       0.314884 NaN NaN     0.531207     0.562100     0.585346   \n",
       "50%       0.513450 NaN NaN     0.838869     0.882913     0.915999   \n",
       "75%       0.706508 NaN NaN     1.074410     1.127432     1.165449   \n",
       "max       1.435689 NaN NaN     2.124652     2.163318     2.211069   \n",
       "\n",
       "                7            8            9            10           11  \\\n",
       "count  8040.000000  8040.000000  8040.000000  8040.000000  8040.000000   \n",
       "mean      0.921741     0.936057     0.945216     0.950546     0.952946   \n",
       "std       0.466929     0.472182     0.474892     0.476107     0.476313   \n",
       "min       0.005000     0.003162     0.005385     0.005099     0.004123   \n",
       "25%       0.599364     0.611542     0.616001     0.615060     0.609266   \n",
       "50%       0.938698     0.961052     0.975293     0.986396     0.996717   \n",
       "75%       1.192631     1.219664     1.237178     1.249344     1.258937   \n",
       "max       2.214892     2.212963     2.189264     2.177546     2.176284   \n",
       "\n",
       "                12           13           14           15           16  \\\n",
       "count  8040.000000  8040.000000  8040.000000  8040.000000  8040.000000   \n",
       "mean      0.953519     0.952931     0.951362     0.949278     0.946582   \n",
       "std       0.476073     0.475170     0.473541     0.472282     0.470868   \n",
       "min       0.002828     0.001000     0.004472     0.003606     0.001414   \n",
       "25%       0.603571     0.604026     0.599036     0.596342     0.594952   \n",
       "50%       1.003743     1.008147     1.012871     1.013017     1.015250   \n",
       "75%       1.264536     1.268723     1.267426     1.267585     1.266213   \n",
       "max       2.176280     2.172826     2.172169     2.173458     2.177166   \n",
       "\n",
       "                17           18  \n",
       "count  8040.000000  8040.000000  \n",
       "mean      0.943731     0.940446  \n",
       "std       0.469285     0.467661  \n",
       "min       0.003606     0.004123  \n",
       "25%       0.587956     0.583973  \n",
       "50%       1.014327     1.010617  \n",
       "75%       1.263200     1.260485  \n",
       "max       2.173878     2.160396  "
      ]
     },
     "execution_count": 8,
     "metadata": {},
     "output_type": "execute_result"
    }
   ],
   "source": [
    "bins = range(1,sites[infile]['zbins'].size+1)\n",
    "df = pd.DataFrame(sites[infile]['cmag'], index=sites[infile]['ta'],columns=bins)\n",
    "df.describe()"
   ]
  },
  {
   "cell_type": "code",
   "execution_count": 9,
   "metadata": {
    "collapsed": false
   },
   "outputs": [
    {
     "data": {
      "image/png": "[encoded data removed]",
      "text/plain": [
       "<matplotlib.figure.Figure at 0x1a23eef0>"
      ]
     },
     "metadata": {},
     "output_type": "display_data"
    }
   ],
   "source": [
    "plt.figure(); df.mean().plot.barh();"
   ]
  },
  {
   "cell_type": "code",
   "execution_count": 370,
   "metadata": {
    "collapsed": false
   },
   "outputs": [
    {
     "data": {
      "image/png": "[encoded data removed]",
      "text/plain": [
       "<matplotlib.figure.Figure at 0x21642c88>"
      ]
     },
     "metadata": {},
     "output_type": "display_data"
    }
   ],
   "source": [
    "df.plot(kind='box', vert=False);"
   ]
  },
  {
   "cell_type": "code",
   "execution_count": 305,
   "metadata": {
    "collapsed": false
   },
   "outputs": [],
   "source": [
    "def keyed(mat):\n",
    "    keys = mat.keys()\n",
    "    \n",
    "    for i in keys:\n",
    "        try:\n",
    "            print i, mat[i].shape\n",
    "            pass\n",
    "        except AttributeError:\n",
    "            print '... Error'\n",
    "            continue"
   ]
  },
  {
   "cell_type": "code",
   "execution_count": 11,
   "metadata": {
    "collapsed": false
   },
   "outputs": [],
   "source": [
    "def histoPlot(velocity, Depth, site, j, saveit):\n",
    "    plt.clf()\n",
    "    weights = np.ones_like(velocity[~np.isnan(velocity)])/len(velocity[~np.isnan(velocity)])\n",
    "    n, bins, patches = plt.hist(velocity[~np.isnan(velocity)],bins=20, facecolor='green', weights=weights, alpha=0.9)\n",
    "    \n",
    "    plt.xlabel('Current Velocity [m/s]')\n",
    "    plt.ylabel('Observation')\n",
    "    plt.title(r'Bin %d (%.1fm from Seafloor) at %s' % (j, Depth, site))\n",
    "    #plt.axis([40, 160, 0, 0.03])\n",
    "    plt.grid(True)\n",
    "    \n",
    "    if saveit == 'True':\n",
    "        directory = 'TimeSeries_Histograms/%s/' %site\n",
    "        saveloc = '%s%s_Bin%r.png' % (directory, site, j)\n",
    "    \n",
    "        if not os.path.exists(directory):\n",
    "            os.makedirs(directory)\n",
    "    \n",
    "        plt.savefig(saveloc)"
   ]
  },
  {
   "cell_type": "code",
   "execution_count": 14,
   "metadata": {
    "collapsed": false
   },
   "outputs": [
    {
     "name": "stdout",
     "output_type": "stream",
     "text": [
      "1.69389516795\n",
      "2.00345561468\n",
      "0.882834614073\n",
      "3.832079328\n",
      "0.784490718417\n",
      "0.932742358997\n",
      "0.912739440392\n"
     ]
    }
   ],
   "source": [
    "infile = wyman\n",
    "Site = 'Wyman Ave. Bridge'\n",
    "days = np.squeeze(infile['ta'].T)\n",
    "VeloBins = infile['cmag']\n",
    "y = infile['cmag']\n",
    "yMean = np.nanmean(infile['cmag'],axis=1)\n",
    "yMin = np.nanmin(infile['cmag'],axis=1)\n",
    "yMax = np.nanmax(infile['cmag'],axis=1)\n",
    "yPres = infile['pa'] - np.nanmean(infile['pa'])\n",
    "BinDepth =  infile['zbins'].T\n",
    "\n",
    "print np.nanmax(yMin)\n",
    "print np.nanmax(yMax)\n",
    "print np.nanmean(yMean)\n",
    "print np.nanmax(yPres) - np.nanmin(yPres)\n",
    "print np.nanmean(yMin)\n",
    "print np.nanmean(yMax)\n",
    "print np.nanmean(infile['cmag'])"
   ]
  },
  {
   "cell_type": "code",
   "execution_count": 289,
   "metadata": {
    "collapsed": false
   },
   "outputs": [
    {
     "data": {
      "image/png": "[encoded data removed]",
      "text/plain": [
       "<matplotlib.figure.Figure at 0x21511438>"
      ]
     },
     "metadata": {},
     "output_type": "display_data"
    }
   ],
   "source": [
    "for col in range(VeloBins.shape[1]):\n",
    "    j = col + 1\n",
    "    try:\n",
    "        histoPlot(VeloBins[:,col], BinDepth[col][0], Site, j, 'True')\n",
    "        pass\n",
    "    except AttributeError:\n",
    "            print '%r... Error' % j\n",
    "            continue"
   ]
  },
  {
   "cell_type": "code",
   "execution_count": 136,
   "metadata": {
    "collapsed": false
   },
   "outputs": [],
   "source": [
    "# Generate some synthetic time series for six different categories\n",
    "#cats = list(\"abcdef\")\n",
    "#yy = np.random.randn(2000)\n",
    "#g = np.random.choice(cats, 2000)\n",
    "#for i, l in enumerate(cats):\n",
    "#    yy[g == l] += i // 2\n",
    "#df = pd.DataFrame(dict(score=yy, group=g))\n",
    "\n",
    "# Find the quartiles and IQR foor each category\n",
    "groups = df.groupby('group')\n",
    "q1 = groups.quantile(q=0.25)\n",
    "q2 = groups.quantile(q=0.5)\n",
    "q3 = groups.quantile(q=0.75)\n",
    "iqr = q3 - q1\n",
    "upper = q3 + 1.5*iqr\n",
    "lower = q1 - 1.5*iqr\n",
    "\n",
    "# find the outliers for each category\n",
    "def outliers(group):\n",
    "    cat = group.name\n",
    "    return group[(group.score > upper.loc[cat][0]) | (group.score < lower.loc[cat][0])]['score']\n",
    "out = groups.apply(outliers).dropna()\n",
    "\n",
    "# Prepare outlier data for plotting, we need coordinate for every outlier.\n",
    "outx = []\n",
    "outy = []\n",
    "for cat in cats:\n",
    "    # only add outliers if they exist\n",
    "    if not out.loc[cat].empty:\n",
    "        for value in out[cat]:\n",
    "            outx.append(cat)\n",
    "            outy.append(value)\n",
    "\n",
    "output_file(\"boxplot.html\")\n",
    "\n",
    "p = figure(tools=\"save\", background_fill=\"#EFE8E2\", title=\"\", x_range=cats)\n",
    "\n",
    "# If no outliers, shrink lengths of stems to be no longer than the minimums or maximums\n",
    "qmin = groups.quantile(q=0.00)\n",
    "qmax = groups.quantile(q=1.00)\n",
    "upper.score = [min([x,y]) for (x,y) in zip(list(qmax.iloc[:,0]),upper.score) ]\n",
    "lower.score = [max([x,y]) for (x,y) in zip(list(qmin.iloc[:,0]),lower.score) ]\n",
    "\n",
    "# stems\n",
    "p.segment(cats, upper.score, cats, q3.score, line_width=2, line_color=\"black\")\n",
    "p.segment(cats, lower.score, cats, q1.score, line_width=2, line_color=\"black\")\n",
    "\n",
    "# boxes\n",
    "p.rect(cats, (q3.score+q2.score)/2, 0.7, q3.score-q2.score,\n",
    "    fill_color=\"#E08E79\", line_width=2, line_color=\"black\")\n",
    "p.rect(cats, (q2.score+q1.score)/2, 0.7, q2.score-q1.score,\n",
    "    fill_color=\"#3B8686\", line_width=2, line_color=\"black\")\n",
    "\n",
    "# whiskers (almost-0 height rects simpler than segments)\n",
    "p.rect(cats, lower.score, 0.2, 0.01, line_color=\"black\")\n",
    "p.rect(cats, upper.score, 0.2, 0.01, line_color=\"black\")\n",
    "\n",
    "# outliers\n",
    "p.circle(outx, outy, size=6, color=\"#F38630\", fill_alpha=0.6)\n",
    "\n",
    "p.xgrid.grid_line_color = None\n",
    "p.ygrid.grid_line_color = \"white\"\n",
    "p.grid.grid_line_width = 2\n",
    "p.xaxis.major_label_text_font_size=\"12pt\"\n",
    "\n",
    "show(p)"
   ]
  }
 ],
 "metadata": {
  "kernelspec": {
   "display_name": "Python 2",
   "language": "python",
   "name": "python2"
  },
  "language_info": {
   "codemirror_mode": {
    "name": "ipython",
    "version": 2
   },
   "file_extension": ".py",
   "mimetype": "text/x-python",
   "name": "python",
   "nbconvert_exporter": "python",
   "pygments_lexer": "ipython2",
   "version": "2.7.11"
  }
 },
 "nbformat": 4,
 "nbformat_minor": 0
}
