{
 "cells": [
  {
   "cell_type": "code",
   "execution_count": 169,
   "metadata": {
    "collapsed": true
   },
   "outputs": [],
   "source": [
    "%matplotlib inline\n",
    "import pandas as pd\n",
    "import numpy as np\n",
    "import matplotlib.pyplot as plt\n",
    "from scipy import io\n",
    "import scipy.fftpack\n",
    "import pyproj\n",
    "from pyproj import Proj\n",
    "import os\n",
    "from bokeh.plotting import figure, output_file, show\n",
    "from bokeh.charts import BoxPlot, output_file, show\n",
    "import matplotlib.mlab as mlab"
   ]
  },
  {
   "cell_type": "code",
   "execution_count": 7,
   "metadata": {
    "collapsed": false
   },
   "outputs": [
    {
     "name": "stdout",
     "output_type": "stream",
     "text": [
      "['sullivanpt_005min.mat', 'sullivanpt_005min_histogram.mat', 'sullivanpt_2nd_deployment_005min.mat', 'sullivanpt_2nd_deployment_005min_histogram.mat', 'walkerst_005min.mat', 'walker_005min_histogram.mat', 'wymanst_005min.mat', 'wyman_005_histogram.mat']\n"
     ]
    }
   ],
   "source": [
    "path = 'adcp_data/'\n",
    "listing = os.listdir(path)\n",
    "print listing"
   ]
  },
  {
   "cell_type": "code",
   "execution_count": 7,
   "metadata": {
    "collapsed": false
   },
   "outputs": [],
   "source": [
    "mat = io.loadmat(path + listing[4])  \n",
    "hist = io.loadmat(path + listing[5])"
   ]
  },
  {
   "cell_type": "code",
   "execution_count": 8,
   "metadata": {
    "collapsed": false
   },
   "outputs": [],
   "source": [
    "sullivan1 = io.loadmat(path + listing[1])\n",
    "sullivan2 = io.loadmat(path + listing[3])\n",
    "walker = io.loadmat(path + listing[5])\n",
    "wyman = io.loadmat(path + listing[7])"
   ]
  },
  {
   "cell_type": "code",
   "execution_count": 9,
   "metadata": {
    "collapsed": false
   },
   "outputs": [],
   "source": [
    "def keyed(mat):\n",
    "    keys = mat.keys()\n",
    "    \n",
    "    for i in keys:\n",
    "        try:\n",
    "            print i, mat[i].shape\n",
    "            pass\n",
    "        except AttributeError:\n",
    "            print '... Error'\n",
    "            continue"
   ]
  },
  {
   "cell_type": "code",
   "execution_count": 11,
   "metadata": {
    "collapsed": false
   },
   "outputs": [
    {
     "name": "stdout",
     "output_type": "stream",
     "text": [
      "cmag (8040, 18)\n",
      "nfrac (18, 26)\n",
      "zbins (18, 1)\n",
      "__header__ ... Error\n",
      "__globals__ ... Error\n",
      "pa (8040, 1)\n",
      "Vv (1, 26)\n",
      "__version__ ... Error\n",
      "cdir (8040, 18)\n",
      "ta (8040, 1)\n"
     ]
    }
   ],
   "source": [
    "keyed(sullivan2)"
   ]
  },
  {
   "cell_type": "code",
   "execution_count": 77,
   "metadata": {
    "collapsed": false
   },
   "outputs": [
    {
     "data": {
      "text/plain": [
       "array([ 6.75])"
      ]
     },
     "execution_count": 77,
     "metadata": {},
     "output_type": "execute_result"
    }
   ],
   "source": [
    "depth = sullivan2['zbins']\n",
    "depth[-j]     "
   ]
  },
  {
   "cell_type": "code",
   "execution_count": 14,
   "metadata": {
    "collapsed": false
   },
   "outputs": [
    {
     "data": {
      "text/plain": [
       "2.2148918709499115"
      ]
     },
     "execution_count": 14,
     "metadata": {},
     "output_type": "execute_result"
    }
   ],
   "source": [
    "np.nanmax(sullivan2['cmag'])"
   ]
  },
  {
   "cell_type": "code",
   "execution_count": 24,
   "metadata": {
    "collapsed": false
   },
   "outputs": [
    {
     "data": {
      "text/html": [
       "<div>\n",
       "<table border=\"1\" class=\"dataframe\">\n",
       "  <thead>\n",
       "    <tr style=\"text-align: right;\">\n",
       "      <th></th>\n",
       "      <th>ta</th>\n",
       "      <th>cmag</th>\n",
       "    </tr>\n",
       "  </thead>\n",
       "  <tbody>\n",
       "    <tr>\n",
       "      <th>0</th>\n",
       "      <td>cmag</td>\n",
       "      <td>[[0.852630726588, 0.896970273468, 0.9318805977...</td>\n",
       "    </tr>\n",
       "    <tr>\n",
       "      <th>1</th>\n",
       "      <td>__globals__</td>\n",
       "      <td>[]</td>\n",
       "    </tr>\n",
       "    <tr>\n",
       "      <th>2</th>\n",
       "      <td>nfrac</td>\n",
       "      <td>[[3.1717597471, 4.86828240253, 5.82718651212, ...</td>\n",
       "    </tr>\n",
       "    <tr>\n",
       "      <th>3</th>\n",
       "      <td>zbins</td>\n",
       "      <td>[[1.7, 2.2, 2.7, 3.2, 3.7, 4.2, 4.7, 5.2, 5.7,...</td>\n",
       "    </tr>\n",
       "    <tr>\n",
       "      <th>4</th>\n",
       "      <td>__header__</td>\n",
       "      <td>MATLAB 5.0 MAT-file, Platform: MACI64, Created...</td>\n",
       "    </tr>\n",
       "    <tr>\n",
       "      <th>5</th>\n",
       "      <td>pa</td>\n",
       "      <td>[[23.135844328], [23.1807474016], [23.23018435...</td>\n",
       "    </tr>\n",
       "    <tr>\n",
       "      <th>6</th>\n",
       "      <td>Vv</td>\n",
       "      <td>[[0.05, 0.15, 0.25, 0.35, 0.45, 0.55, 0.65, 0....</td>\n",
       "    </tr>\n",
       "    <tr>\n",
       "      <th>7</th>\n",
       "      <td>__version__</td>\n",
       "      <td>1.0</td>\n",
       "    </tr>\n",
       "    <tr>\n",
       "      <th>8</th>\n",
       "      <td>cdir</td>\n",
       "      <td>[[-92.8442328059, -93.9769273491, -93.91841375...</td>\n",
       "    </tr>\n",
       "    <tr>\n",
       "      <th>9</th>\n",
       "      <td>ta</td>\n",
       "      <td>[[282.835069444, 282.838541667, 282.842013889,...</td>\n",
       "    </tr>\n",
       "  </tbody>\n",
       "</table>\n",
       "</div>"
      ],
      "text/plain": [
       "            ta                                               cmag\n",
       "0         cmag  [[0.852630726588, 0.896970273468, 0.9318805977...\n",
       "1  __globals__                                                 []\n",
       "2        nfrac  [[3.1717597471, 4.86828240253, 5.82718651212, ...\n",
       "3        zbins  [[1.7, 2.2, 2.7, 3.2, 3.7, 4.2, 4.7, 5.2, 5.7,...\n",
       "4   __header__  MATLAB 5.0 MAT-file, Platform: MACI64, Created...\n",
       "5           pa  [[23.135844328], [23.1807474016], [23.23018435...\n",
       "6           Vv  [[0.05, 0.15, 0.25, 0.35, 0.45, 0.55, 0.65, 0....\n",
       "7  __version__                                                1.0\n",
       "8         cdir  [[-92.8442328059, -93.9769273491, -93.91841375...\n",
       "9           ta  [[282.835069444, 282.838541667, 282.842013889,..."
      ]
     },
     "execution_count": 24,
     "metadata": {},
     "output_type": "execute_result"
    }
   ],
   "source": [
    "pd.DataFrame(hist.items(), columns=['ta', 'cmag'])"
   ]
  },
  {
   "cell_type": "code",
   "execution_count": 145,
   "metadata": {
    "collapsed": false
   },
   "outputs": [
    {
     "name": "stdout",
     "output_type": "stream",
     "text": [
      "1.70209870454\n",
      "2.21489187095\n",
      "0.906132833767\n",
      "3.96999679041\n",
      "0.534781728343\n",
      "1.00692864581\n",
      "0.906001923121\n"
     ]
    }
   ],
   "source": [
    "infile = sullivan2\n",
    "x = np.squeeze(infile['ta'].T)\n",
    "y = infile['cmag']\n",
    "yMean = np.nanmean(infile['cmag'],axis=1)\n",
    "yMin = np.nanmin(infile['cmag'],axis=1)\n",
    "yMax = np.nanmax(infile['cmag'],axis=1)\n",
    "yPres = infile['pa'] - np.nanmean(infile['pa'])\n",
    "\n",
    "print np.nanmax(yMin)\n",
    "print np.nanmax(yMax)\n",
    "print np.nanmean(yMean)\n",
    "print np.nanmax(yPres) - np.nanmin(yPres)\n",
    "print np.nanmean(yMin)\n",
    "print np.nanmean(yMax)\n",
    "print np.nanmean(infile['cmag'])"
   ]
  },
  {
   "cell_type": "code",
   "execution_count": 67,
   "metadata": {
    "collapsed": false
   },
   "outputs": [
    {
     "name": "stdout",
     "output_type": "stream",
     "text": [
      "[1 4]\n",
      "[2 5]\n",
      "[3 6]\n"
     ]
    }
   ],
   "source": [
    "a = np.array([[1, 2, 3],[4, 5, 6]])\n",
    "for i in range(a.shape[1]):\n",
    "    print a[:,i]\n"
   ]
  },
  {
   "cell_type": "code",
   "execution_count": 70,
   "metadata": {
    "collapsed": false
   },
   "outputs": [
    {
     "name": "stdout",
     "output_type": "stream",
     "text": [
      "[ 302.39409722]\n",
      "[ 302.39449398]\n"
     ]
    }
   ],
   "source": [
    "xS = walker['ta'].T\n",
    "xA = wyman['ta'].T\n",
    "walkerMean = np.nanmean(walker['cmag'],axis=1)\n",
    "wymanMean = np.nanmin(wyman['cmag'],axis=1)\n",
    "print xS[305]\n",
    "print xA[305]"
   ]
  },
  {
   "cell_type": "code",
   "execution_count": 80,
   "metadata": {
    "collapsed": false
   },
   "outputs": [
    {
     "name": "stdout",
     "output_type": "stream",
     "text": [
      "(8040,)\n"
     ]
    }
   ],
   "source": [
    "t = np.nanargmax(yMax)\n",
    "low = t-180\n",
    "high = t+180\n",
    "print yMax.shape"
   ]
  },
  {
   "cell_type": "code",
   "execution_count": 74,
   "metadata": {
    "collapsed": true
   },
   "outputs": [],
   "source": [
    "# output to static HTML file\n",
    "output_file(\"lines.html\", title=\"line plot example\")\n",
    "\n",
    "# create a new plot with a title and axis labels\n",
    "p = figure(title=\"Mean Current Comparison\", x_axis_label='DateTime Value', y_axis_label='Velocity')\n",
    "\n",
    "# add a line renderer with legend and line thickness\n",
    "p.line(xS[0:305,0], walkerMean[0:305], legend=\"Walker St. Mean\", line_width=2, line_color='blue')\n",
    "p.line(xA[0:305,0], wymanMean[0:305], legend=\"Wyman Ave. Mean.\", line_width=2, line_color='red')\n",
    "\n",
    "\n",
    "# show the results\n",
    "show(p)"
   ]
  },
  {
   "cell_type": "code",
   "execution_count": 26,
   "metadata": {
    "collapsed": false
   },
   "outputs": [],
   "source": [
    "'''Sullivan Slice'''\n",
    "# output to static HTML file\n",
    "output_file(\"lines.html\", title=\"line plot example\")\n",
    "\n",
    "# create a new plot with a title and axis labels\n",
    "p = figure(title=\"Current Magnitude:Sullivan Point\", x_axis_label='DateTime Value', y_axis_label='Velocity')\n",
    "\n",
    "# add a line renderer with legend and line thickness\n",
    "p.line(x[low:high], yMean[low:high], legend=\"Mean.\", line_width=2, line_color='blue')\n",
    "p.line(x[low:high], yMin[low:high], legend=\"Min.\", line_width=2, line_color='red')\n",
    "p.line(x[low:high], yMax[low:high], legend=\"Max.\", line_width=2, line_color='green')\n",
    "#p.line(x[low:high,0], yPres[low:high,0], legend=\"Max.\", line_width=2, line_color='black')\n",
    "\n",
    "# show the results\n",
    "show(p)"
   ]
  },
  {
   "cell_type": "code",
   "execution_count": 82,
   "metadata": {
    "collapsed": false
   },
   "outputs": [],
   "source": [
    "'''Sullivan Slice'''\n",
    "# output to static HTML file\n",
    "output_file(\"lines.html\", title=\"line plot example\")\n",
    "\n",
    "# create a new plot with a title and axis labels\n",
    "p = figure(title=\"Current Magnitude:Sullivan Point\", x_axis_label='DateTime Value', y_axis_label='Velocity')\n",
    "\n",
    "for i in range(y.shape[1]):\n",
    "    p.line(x[low:high], y[low:high,i], legend=\".\", line_width=1, line_color='blue')\n",
    "\n",
    "\n",
    "# show the results\n",
    "show(p)"
   ]
  },
  {
   "cell_type": "code",
   "execution_count": 81,
   "metadata": {
    "collapsed": false
   },
   "outputs": [
    {
     "ename": "IndexError",
     "evalue": "too many indices for array",
     "output_type": "error",
     "traceback": [
      "\u001b[0;31m---------------------------------------------------------------------------\u001b[0m",
      "\u001b[0;31mIndexError\u001b[0m                                Traceback (most recent call last)",
      "\u001b[0;32m<ipython-input-81-1843062ce80c>\u001b[0m in \u001b[0;36m<module>\u001b[0;34m()\u001b[0m\n\u001b[1;32m      6\u001b[0m \u001b[0;34m\u001b[0m\u001b[0m\n\u001b[1;32m      7\u001b[0m \u001b[0;31m# add a line renderer with legend and line thickness\u001b[0m\u001b[0;34m\u001b[0m\u001b[0;34m\u001b[0m\u001b[0m\n\u001b[0;32m----> 8\u001b[0;31m \u001b[0mp\u001b[0m\u001b[0;34m.\u001b[0m\u001b[0mline\u001b[0m\u001b[0;34m(\u001b[0m\u001b[0mx\u001b[0m\u001b[0;34m[\u001b[0m\u001b[0;34m:\u001b[0m\u001b[0;34m,\u001b[0m\u001b[0;36m0\u001b[0m\u001b[0;34m]\u001b[0m\u001b[0;34m,\u001b[0m \u001b[0myMean\u001b[0m\u001b[0;34m[\u001b[0m\u001b[0;34m:\u001b[0m\u001b[0;34m]\u001b[0m\u001b[0;34m,\u001b[0m \u001b[0mlegend\u001b[0m\u001b[0;34m=\u001b[0m\u001b[0;34m\"Mean.\"\u001b[0m\u001b[0;34m,\u001b[0m \u001b[0mline_width\u001b[0m\u001b[0;34m=\u001b[0m\u001b[0;36m2\u001b[0m\u001b[0;34m,\u001b[0m \u001b[0mline_color\u001b[0m\u001b[0;34m=\u001b[0m\u001b[0;34m'blue'\u001b[0m\u001b[0;34m)\u001b[0m\u001b[0;34m\u001b[0m\u001b[0m\n\u001b[0m\u001b[1;32m      9\u001b[0m \u001b[0mp\u001b[0m\u001b[0;34m.\u001b[0m\u001b[0mline\u001b[0m\u001b[0;34m(\u001b[0m\u001b[0mx\u001b[0m\u001b[0;34m[\u001b[0m\u001b[0;34m:\u001b[0m\u001b[0;34m,\u001b[0m\u001b[0;36m0\u001b[0m\u001b[0;34m]\u001b[0m\u001b[0;34m,\u001b[0m \u001b[0my2\u001b[0m\u001b[0;34m[\u001b[0m\u001b[0;34m:\u001b[0m\u001b[0;34m]\u001b[0m\u001b[0;34m,\u001b[0m \u001b[0mlegend\u001b[0m\u001b[0;34m=\u001b[0m\u001b[0;34m\"Min.\"\u001b[0m\u001b[0;34m,\u001b[0m \u001b[0mline_width\u001b[0m\u001b[0;34m=\u001b[0m\u001b[0;36m2\u001b[0m\u001b[0;34m,\u001b[0m \u001b[0mline_color\u001b[0m\u001b[0;34m=\u001b[0m\u001b[0;34m'red'\u001b[0m\u001b[0;34m)\u001b[0m\u001b[0;34m\u001b[0m\u001b[0m\n\u001b[1;32m     10\u001b[0m \u001b[0;34m\u001b[0m\u001b[0m\n",
      "\u001b[0;31mIndexError\u001b[0m: too many indices for array"
     ]
    }
   ],
   "source": [
    "# output to static HTML file\n",
    "output_file(\"lines.html\", title=\"line plot example\")\n",
    "\n",
    "# create a new plot with a title and axis labels\n",
    "p = figure(title=\"simple line example\", x_axis_label='DateTime Value', y_axis_label='Velocity')\n",
    "\n",
    "# add a line renderer with legend and line thickness\n",
    "p.line(x[:,0], yMean[:], legend=\"Mean.\", line_width=2, line_color='blue')\n",
    "p.line(x[:,0], y2[:], legend=\"Min.\", line_width=2, line_color='red')\n",
    "\n",
    "\n",
    "# show the results\n",
    "show(p)"
   ]
  },
  {
   "cell_type": "code",
   "execution_count": null,
   "metadata": {
    "collapsed": false
   },
   "outputs": [],
   "source": [
    "dp = np.max(y0)-np.min(y0)"
   ]
  },
  {
   "cell_type": "code",
   "execution_count": null,
   "metadata": {
    "collapsed": false
   },
   "outputs": [],
   "source": [
    "g = 9.81\n",
    "rho = 1019"
   ]
  },
  {
   "cell_type": "code",
   "execution_count": null,
   "metadata": {
    "collapsed": false
   },
   "outputs": [],
   "source": [
    "dp / (rho * g)"
   ]
  },
  {
   "cell_type": "code",
   "execution_count": null,
   "metadata": {
    "collapsed": false
   },
   "outputs": [],
   "source": [
    "dfn = pd.DataFrame(mat.get('nfrac'))\n",
    "dfn"
   ]
  },
  {
   "cell_type": "code",
   "execution_count": null,
   "metadata": {
    "collapsed": false
   },
   "outputs": [],
   "source": [
    "dfVv = pd.DataFrame(mat.get('Vv'))\n",
    "dfVv"
   ]
  },
  {
   "cell_type": "code",
   "execution_count": 30,
   "metadata": {
    "collapsed": false
   },
   "outputs": [
    {
     "data": {
      "text/plain": [
       "0.280151433207139"
      ]
     },
     "execution_count": 30,
     "metadata": {},
     "output_type": "execute_result"
    }
   ],
   "source": [
    "(2367 - 1849) / 1849."
   ]
  },
  {
   "cell_type": "code",
   "execution_count": 31,
   "metadata": {
    "collapsed": false
   },
   "outputs": [
    {
     "data": {
      "text/plain": [
       "4.908738521234052"
      ]
     },
     "execution_count": 31,
     "metadata": {},
     "output_type": "execute_result"
    }
   ],
   "source": [
    "np.pi * 1.25 ** 2"
   ]
  },
  {
   "cell_type": "code",
   "execution_count": 32,
   "metadata": {
    "collapsed": false
   },
   "outputs": [
    {
     "data": {
      "text/plain": [
       "0.5306122448979591"
      ]
     },
     "execution_count": 32,
     "metadata": {},
     "output_type": "execute_result"
    }
   ],
   "source": [
    "(7.5-4.9)/4.9"
   ]
  },
  {
   "cell_type": "code",
   "execution_count": 33,
   "metadata": {
    "collapsed": false
   },
   "outputs": [
    {
     "data": {
      "text/plain": [
       "0.19226618705035972"
      ]
     },
     "execution_count": 33,
     "metadata": {},
     "output_type": "execute_result"
    }
   ],
   "source": [
    "(13258-11120)/11120."
   ]
  },
  {
   "cell_type": "code",
   "execution_count": 39,
   "metadata": {
    "collapsed": false
   },
   "outputs": [
    {
     "data": {
      "text/plain": [
       "array([2, 5])"
      ]
     },
     "execution_count": 39,
     "metadata": {},
     "output_type": "execute_result"
    }
   ],
   "source": [
    "a = np.array([[1, 2, 3],[4, 5, 6]])\n",
    "a[:,1]"
   ]
  },
  {
   "cell_type": "code",
   "execution_count": 11,
   "metadata": {
    "collapsed": false
   },
   "outputs": [
    {
     "data": {
      "image/png": "[encoded data removed]",
      "text/plain": [
       "<matplotlib.figure.Figure at 0x1a0cdd30>"
      ]
     },
     "metadata": {},
     "output_type": "display_data"
    }
   ],
   "source": [
    "# example data\n",
    "mu = 100  # mean of distribution\n",
    "sigma = 15  # standard deviation of distribution\n",
    "x = mu + sigma * np.random.randn(10000)\n",
    "\n",
    "num_bins = 10\n",
    "# the histogram of the data\n",
    "n, bins, patches = plt.hist(x, num_bins, normed=1, facecolor='green', alpha=0.5)\n",
    "# add a 'best fit' line\n",
    "y = mlab.normpdf(bins, mu, sigma)\n",
    "plt.plot(bins, y, 'r--')\n",
    "plt.xlabel('Smarts')\n",
    "plt.ylabel('Probability')\n",
    "plt.title(r'Histogram of IQ: $\\mu=100$, $\\sigma=15$')\n",
    "\n",
    "# Tweak spacing to prevent clipping of ylabel\n",
    "plt.subplots_adjust(left=0.15)\n",
    "plt.show()"
   ]
  },
  {
   "cell_type": "code",
   "execution_count": 173,
   "metadata": {
    "collapsed": false
   },
   "outputs": [],
   "source": [
    "y\n",
    "depth[:,0]\n",
    "df = pd.DataFrame(Binz = arange(1,18) velocities=y)\n",
    "#df.columns = depth[:,0]"
   ]
  },
  {
   "cell_type": "code",
   "execution_count": 195,
   "metadata": {
    "collapsed": false
   },
   "outputs": [
    {
     "ename": "AttributeError",
     "evalue": "'DataFrame' object has no attribute 'names'",
     "output_type": "error",
     "traceback": [
      "\u001b[1;31m---------------------------------------------------------------------------\u001b[0m",
      "\u001b[1;31mAttributeError\u001b[0m                            Traceback (most recent call last)",
      "\u001b[1;32m<ipython-input-195-a42506300254>\u001b[0m in \u001b[0;36m<module>\u001b[1;34m()\u001b[0m\n\u001b[1;32m----> 1\u001b[1;33m \u001b[0mdf\u001b[0m\u001b[1;33m.\u001b[0m\u001b[0mnames\u001b[0m\u001b[1;33m\u001b[0m\u001b[0m\n\u001b[0m",
      "\u001b[1;32mC:\\Users\\DBerry\\AppData\\Local\\Continuum\\Anaconda\\lib\\site-packages\\pandas\\core\\generic.pyc\u001b[0m in \u001b[0;36m__getattr__\u001b[1;34m(self, name)\u001b[0m\n\u001b[0;32m   2358\u001b[0m                 \u001b[1;32mreturn\u001b[0m \u001b[0mself\u001b[0m\u001b[1;33m[\u001b[0m\u001b[0mname\u001b[0m\u001b[1;33m]\u001b[0m\u001b[1;33m\u001b[0m\u001b[0m\n\u001b[0;32m   2359\u001b[0m             raise AttributeError(\"'%s' object has no attribute '%s'\" %\n\u001b[1;32m-> 2360\u001b[1;33m                                  (type(self).__name__, name))\n\u001b[0m\u001b[0;32m   2361\u001b[0m \u001b[1;33m\u001b[0m\u001b[0m\n\u001b[0;32m   2362\u001b[0m     \u001b[1;32mdef\u001b[0m \u001b[0m__setattr__\u001b[0m\u001b[1;33m(\u001b[0m\u001b[0mself\u001b[0m\u001b[1;33m,\u001b[0m \u001b[0mname\u001b[0m\u001b[1;33m,\u001b[0m \u001b[0mvalue\u001b[0m\u001b[1;33m)\u001b[0m\u001b[1;33m:\u001b[0m\u001b[1;33m\u001b[0m\u001b[0m\n",
      "\u001b[1;31mAttributeError\u001b[0m: 'DataFrame' object has no attribute 'names'"
     ]
    }
   ],
   "source": [
    "df.names"
   ]
  },
  {
   "cell_type": "code",
   "execution_count": null,
   "metadata": {
    "collapsed": false
   },
   "outputs": [
    {
     "name": "stderr",
     "output_type": "stream",
     "text": [
      "ERROR:C:\\Users\\DBerry\\AppData\\Local\\Continuum\\Anaconda\\lib\\site-packages\\bokeh\\validation\\check.pyc:E-1000 (COLUMN_LENGTHS): ColumnDataSource column lengths are not all the same: ColumnDataSource, ViewModel:ColumnDataSource, ref _id: 31779813-4cfa-4005-a046-bfb316ce0a92\n",
      "ERROR:C:\\Users\\DBerry\\AppData\\Local\\Continuum\\Anaconda\\lib\\site-packages\\bokeh\\validation\\check.pyc:E-1000 (COLUMN_LENGTHS): ColumnDataSource column lengths are not all the same: ColumnDataSource, ViewModel:ColumnDataSource, ref _id: 34debb13-59d6-400d-9c86-4d1555bcb7c0\n",
      "ERROR:C:\\Users\\DBerry\\AppData\\Local\\Continuum\\Anaconda\\lib\\site-packages\\bokeh\\validation\\check.pyc:E-1000 (COLUMN_LENGTHS): ColumnDataSource column lengths are not all the same: ColumnDataSource, ViewModel:ColumnDataSource, ref _id: b6e5bbb2-6b47-4bfe-96ae-e4982305af9c\n",
      "ERROR:C:\\Users\\DBerry\\AppData\\Local\\Continuum\\Anaconda\\lib\\site-packages\\bokeh\\validation\\check.pyc:E-1000 (COLUMN_LENGTHS): ColumnDataSource column lengths are not all the same: ColumnDataSource, ViewModel:ColumnDataSource, ref _id: c7d23d1e-2732-49d4-bb93-774cba33b459\n",
      "ERROR:C:\\Users\\DBerry\\AppData\\Local\\Continuum\\Anaconda\\lib\\site-packages\\bokeh\\validation\\check.pyc:E-1000 (COLUMN_LENGTHS): ColumnDataSource column lengths are not all the same: ColumnDataSource, ViewModel:ColumnDataSource, ref _id: e93ee638-02af-417f-bef5-1cae2534a90d\n",
      "ERROR:C:\\Users\\DBerry\\AppData\\Local\\Continuum\\Anaconda\\lib\\site-packages\\bokeh\\validation\\check.pyc:E-1000 (COLUMN_LENGTHS): ColumnDataSource column lengths are not all the same: ColumnDataSource, ViewModel:ColumnDataSource, ref _id: f01f71c9-8ff9-4d6e-8ef1-7b9e347e9f92\n"
     ]
    }
   ],
   "source": [
    "q1 = df.quantile(q=0.25)\n",
    "q2 = df.quantile(q=0.5)\n",
    "q3 = df.quantile(q=0.75)\n",
    "iqr = q3 - q1\n",
    "upper = q3 + 1.5*iqr\n",
    "lower = q1 - 1.5*iqr\n",
    "\n",
    "output_file(\"boxplot.html\")\n",
    "\n",
    "p = figure(tools=\"save\", background_fill=\"#EFE8E2\", title=\"\")\n",
    "\n",
    "# If no outliers, shrink lengths of stems to be no longer than the minimums or maximums\n",
    "qmin = groups.quantile(q=0.00)\n",
    "qmax = groups.quantile(q=1.00)\n",
    "upper = [min([x,y]) for (x,y) in zip(list(qmax.iloc[:,0]),upper) ]\n",
    "lower = [max([x,y]) for (x,y) in zip(list(qmin.iloc[:,0]),lower) ]\n",
    "\n",
    "# stems\n",
    "p.segment(df, upper, df, q3, line_width=2, line_color=\"black\")\n",
    "p.segment(df, lower, df, q1, line_width=2, line_color=\"black\")\n",
    "\n",
    "# boxes\n",
    "p.rect(df, (q3+q2)/2, 0.7, q3-q2,\n",
    "    fill_color=\"#E08E79\", line_width=2, line_color=\"black\")\n",
    "p.rect(df, (q2+q1)/2, 0.7, q2-q1,\n",
    "    fill_color=\"#3B8686\", line_width=2, line_color=\"black\")\n",
    "\n",
    "# whiskers (almost-0 height rects simpler than segments)\n",
    "p.rect(df, lower, 0.2, 0.01, line_color=\"black\")\n",
    "p.rect(df, upper, 0.2, 0.01, line_color=\"black\")\n",
    "\n",
    "p.xgrid.grid_line_color = None\n",
    "p.ygrid.grid_line_color = \"white\"\n",
    "p.grid.grid_line_width = 2\n",
    "p.xaxis.major_label_text_font_size=\"12pt\"\n",
    "\n",
    "show(p)"
   ]
  },
  {
   "cell_type": "code",
   "execution_count": null,
   "metadata": {
    "collapsed": true
   },
   "outputs": [],
   "source": [
    "\n",
    "\n",
    "# Prepare outlier data for plotting, we need coordinate for every outlier.\n",
    "outx = []\n",
    "outy = []\n",
    "for cat in cats:\n",
    "    # only add outliers if they exist\n",
    "    if not out.loc[cat].empty:\n",
    "        for value in out[cat]:\n",
    "            outx.append(cat)\n",
    "            outy.append(value)\n",
    "\n",
    "\n",
    "\n",
    "\n",
    "\n",
    "# outliers\n",
    "p.circle(outx, outy, size=6, color=\"#F38630\", fill_alpha=0.6)\n",
    "\n"
   ]
  },
  {
   "cell_type": "code",
   "execution_count": 80,
   "metadata": {
    "collapsed": false
   },
   "outputs": [
    {
     "data": {
      "image/png": "[encoded data removed]",
      "text/plain": [
       "<matplotlib.figure.Figure at 0x201f45c0>"
      ]
     },
     "metadata": {},
     "output_type": "display_data"
    }
   ],
   "source": [
    "j = 11\n",
    "myarray = y[:,-j]\n",
    "weights = np.ones_like(myarray)/len(myarray)\n",
    "#plt.hist(myarray, weights=weights)\n",
    "n, bins, patches = plt.hist(y[:,j],bins=20, facecolor='green', weights=weights, alpha=0.9)\n"
   ]
  },
  {
   "cell_type": "code",
   "execution_count": 136,
   "metadata": {
    "collapsed": false
   },
   "outputs": [],
   "source": [
    "# Generate some synthetic time series for six different categories\n",
    "#cats = list(\"abcdef\")\n",
    "#yy = np.random.randn(2000)\n",
    "#g = np.random.choice(cats, 2000)\n",
    "#for i, l in enumerate(cats):\n",
    "#    yy[g == l] += i // 2\n",
    "#df = pd.DataFrame(dict(score=yy, group=g))\n",
    "\n",
    "# Find the quartiles and IQR foor each category\n",
    "groups = df.groupby('group')\n",
    "q1 = groups.quantile(q=0.25)\n",
    "q2 = groups.quantile(q=0.5)\n",
    "q3 = groups.quantile(q=0.75)\n",
    "iqr = q3 - q1\n",
    "upper = q3 + 1.5*iqr\n",
    "lower = q1 - 1.5*iqr\n",
    "\n",
    "# find the outliers for each category\n",
    "def outliers(group):\n",
    "    cat = group.name\n",
    "    return group[(group.score > upper.loc[cat][0]) | (group.score < lower.loc[cat][0])]['score']\n",
    "out = groups.apply(outliers).dropna()\n",
    "\n",
    "# Prepare outlier data for plotting, we need coordinate for every outlier.\n",
    "outx = []\n",
    "outy = []\n",
    "for cat in cats:\n",
    "    # only add outliers if they exist\n",
    "    if not out.loc[cat].empty:\n",
    "        for value in out[cat]:\n",
    "            outx.append(cat)\n",
    "            outy.append(value)\n",
    "\n",
    "output_file(\"boxplot.html\")\n",
    "\n",
    "p = figure(tools=\"save\", background_fill=\"#EFE8E2\", title=\"\", x_range=cats)\n",
    "\n",
    "# If no outliers, shrink lengths of stems to be no longer than the minimums or maximums\n",
    "qmin = groups.quantile(q=0.00)\n",
    "qmax = groups.quantile(q=1.00)\n",
    "upper.score = [min([x,y]) for (x,y) in zip(list(qmax.iloc[:,0]),upper.score) ]\n",
    "lower.score = [max([x,y]) for (x,y) in zip(list(qmin.iloc[:,0]),lower.score) ]\n",
    "\n",
    "# stems\n",
    "p.segment(cats, upper.score, cats, q3.score, line_width=2, line_color=\"black\")\n",
    "p.segment(cats, lower.score, cats, q1.score, line_width=2, line_color=\"black\")\n",
    "\n",
    "# boxes\n",
    "p.rect(cats, (q3.score+q2.score)/2, 0.7, q3.score-q2.score,\n",
    "    fill_color=\"#E08E79\", line_width=2, line_color=\"black\")\n",
    "p.rect(cats, (q2.score+q1.score)/2, 0.7, q2.score-q1.score,\n",
    "    fill_color=\"#3B8686\", line_width=2, line_color=\"black\")\n",
    "\n",
    "# whiskers (almost-0 height rects simpler than segments)\n",
    "p.rect(cats, lower.score, 0.2, 0.01, line_color=\"black\")\n",
    "p.rect(cats, upper.score, 0.2, 0.01, line_color=\"black\")\n",
    "\n",
    "# outliers\n",
    "p.circle(outx, outy, size=6, color=\"#F38630\", fill_alpha=0.6)\n",
    "\n",
    "p.xgrid.grid_line_color = None\n",
    "p.ygrid.grid_line_color = \"white\"\n",
    "p.grid.grid_line_width = 2\n",
    "p.xaxis.major_label_text_font_size=\"12pt\"\n",
    "\n",
    "show(p)"
   ]
  },
  {
   "cell_type": "code",
   "execution_count": 192,
   "metadata": {
    "collapsed": false
   },
   "outputs": [
    {
     "data": {
      "text/plain": [
       "0     1.293944\n",
       "1          NaN\n",
       "2          NaN\n",
       "3     1.889215\n",
       "4     1.975431\n",
       "5     2.035604\n",
       "6     2.082531\n",
       "7     2.131846\n",
       "8     2.168945\n",
       "9     2.200769\n",
       "10    2.233443\n",
       "11    2.255984\n",
       "12    2.265769\n",
       "13    2.270012\n",
       "14    2.274449\n",
       "15    2.273103\n",
       "16    2.276067\n",
       "17    2.275255\n",
       "dtype: float64"
      ]
     },
     "execution_count": 192,
     "metadata": {},
     "output_type": "execute_result"
    }
   ],
   "source": [
    "upper"
   ]
  },
  {
   "cell_type": "code",
   "execution_count": null,
   "metadata": {
    "collapsed": true
   },
   "outputs": [],
   "source": []
  }
 ],
 "metadata": {
  "kernelspec": {
   "display_name": "Python 2",
   "language": "python",
   "name": "python2"
  },
  "language_info": {
   "codemirror_mode": {
    "name": "ipython",
    "version": 2
   },
   "file_extension": ".py",
   "mimetype": "text/x-python",
   "name": "python",
   "nbconvert_exporter": "python",
   "pygments_lexer": "ipython2",
   "version": "2.7.11"
  }
 },
 "nbformat": 4,
 "nbformat_minor": 0
}
